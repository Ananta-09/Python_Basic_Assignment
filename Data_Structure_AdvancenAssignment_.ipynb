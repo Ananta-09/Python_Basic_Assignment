{
  "nbformat": 4,
  "nbformat_minor": 0,
  "metadata": {
    "colab": {
      "provenance": [],
      "authorship_tag": "ABX9TyMgiSSrsM5sn5F0DYySYaG7",
      "include_colab_link": true
    },
    "kernelspec": {
      "name": "python3",
      "display_name": "Python 3"
    },
    "language_info": {
      "name": "python"
    }
  },
  "cells": [
    {
      "cell_type": "markdown",
      "metadata": {
        "id": "view-in-github",
        "colab_type": "text"
      },
      "source": [
        "<a href=\"https://colab.research.google.com/github/Ananta-09/Python_Basic_Assignment/blob/main/Data_Structure_AdvancenAssignment_.ipynb\" target=\"_parent\"><img src=\"https://colab.research.google.com/assets/colab-badge.svg\" alt=\"Open In Colab\"/></a>"
      ]
    },
    {
      "cell_type": "code",
      "execution_count": 1,
      "metadata": {
        "id": "iC4wuwhEGcvA"
      },
      "outputs": [],
      "source": [
        "#1.Write a code to reverse a string?\n",
        "def reverse_string(s):\n",
        "    return s[::-1]\n"
      ]
    },
    {
      "cell_type": "code",
      "source": [
        "#2.write a code to count the number of vowels in a string?\n",
        "def count_vowels(s):\n",
        "    vowels = \"aeiouAEIOU\"\n",
        "    return sum(1 for char in s if char in vowels)\n"
      ],
      "metadata": {
        "id": "-Dtj5OflGmIn"
      },
      "execution_count": 2,
      "outputs": []
    },
    {
      "cell_type": "code",
      "source": [
        "#3.Write a code to check if a given string is a palindrome or not?\n",
        "def is_palindrome(s):\n",
        "    return s == s[::-1]\n"
      ],
      "metadata": {
        "id": "-zS-FM_EGy0r"
      },
      "execution_count": 3,
      "outputs": []
    },
    {
      "cell_type": "code",
      "source": [
        "#4.write a code to check if two given strings are anagrams of each othe?\n",
        "def are_anagrams(s1, s2):\n",
        "    return sorted(s1) == sorted(s2)\n",
        "\n"
      ],
      "metadata": {
        "id": "oIsdTnS6G4ck"
      },
      "execution_count": 4,
      "outputs": []
    },
    {
      "cell_type": "code",
      "source": [
        "#5.Write a code to find all occurrences of a given substring within another string?\n",
        "def find_substring_occurrences(s, sub):\n",
        "    return [i for i in range(len(s)) if s.startswith(sub, i)]\n"
      ],
      "metadata": {
        "id": "hXYc2jomHCou"
      },
      "execution_count": 5,
      "outputs": []
    },
    {
      "cell_type": "code",
      "source": [
        "#6.Write a code to perform basic string compression using the counts of repeated characters?\n",
        "def string_compression(s):\n",
        "    compressed = []\n",
        "    count = 1\n",
        "    for i in range(1, len(s)):\n",
        "        if s[i] == s[i - 1]:\n",
        "            count += 1\n",
        "        else:\n",
        "            compressed.append(s[i - 1] + str(count))\n",
        "            count = 1\n",
        "    compressed.append(s[-1] + str(count))  # for the last character\n",
        "    return ''.join(compressed)\n"
      ],
      "metadata": {
        "id": "rlPrL-BfHHKk"
      },
      "execution_count": 6,
      "outputs": []
    },
    {
      "cell_type": "code",
      "source": [
        "#7.\n",
        "def has_unique_chars(s):\n",
        "    return len(set(s)) == len(s)\n"
      ],
      "metadata": {
        "id": "B2QyKRyQHNcj"
      },
      "execution_count": 7,
      "outputs": []
    },
    {
      "cell_type": "code",
      "source": [
        "#8.\n",
        "def to_uppercase(s):\n",
        "    return s.upper()\n",
        "\n",
        "def to_lowercase(s):\n",
        "    return s.lower()\n"
      ],
      "metadata": {
        "id": "QKgk7jvvHQvS"
      },
      "execution_count": 8,
      "outputs": []
    },
    {
      "cell_type": "code",
      "source": [
        "#9.\n",
        "def count_words(s):\n",
        "    return len(s.split())\n"
      ],
      "metadata": {
        "id": "9FqmiAzzHTk8"
      },
      "execution_count": 9,
      "outputs": []
    },
    {
      "cell_type": "code",
      "source": [
        "#10.\n",
        "def concatenate_strings(s1, s2):\n",
        "    return ''.join([s1, s2])\n"
      ],
      "metadata": {
        "id": "hZs1vpNUHV_t"
      },
      "execution_count": 10,
      "outputs": []
    },
    {
      "cell_type": "code",
      "source": [
        "#11.\n",
        "def remove_element(lst, elem):\n",
        "    return [x for x in lst if x != elem]\n"
      ],
      "metadata": {
        "id": "hlsNWaKJHZZY"
      },
      "execution_count": 11,
      "outputs": []
    },
    {
      "cell_type": "code",
      "source": [
        "#12.\n",
        "def second_largest(lst):\n",
        "    unique_lst = list(set(lst))  # Remove duplicates\n",
        "    unique_lst.sort()\n",
        "    return unique_lst[-2] if len(unique_lst) > 1 else None\n"
      ],
      "metadata": {
        "id": "8sULZ0cJHc8u"
      },
      "execution_count": 12,
      "outputs": []
    },
    {
      "cell_type": "code",
      "source": [
        "#13.\n",
        "def count_occurrences(lst):\n",
        "    occurrences = {}\n",
        "    for item in lst:\n",
        "        occurrences[item] = occurrences.get(item, 0) + 1\n",
        "    return occurrences\n"
      ],
      "metadata": {
        "id": "mldGqrYKHfUz"
      },
      "execution_count": 13,
      "outputs": []
    },
    {
      "cell_type": "code",
      "source": [
        "#14.\n",
        "def reverse_list(lst):\n",
        "    start, end = 0, len(lst) - 1\n",
        "    while start < end:\n",
        "        lst[start], lst[end] = lst[end], lst[start]\n",
        "        start += 1\n",
        "        end -= 1\n",
        "    return lst\n"
      ],
      "metadata": {
        "id": "bjlNFwmhHiAc"
      },
      "execution_count": 14,
      "outputs": []
    },
    {
      "cell_type": "code",
      "source": [
        "#15.\n",
        "def remove_duplicates(lst):\n",
        "    seen = set()\n",
        "    return [x for x in lst if not (x in seen or seen.add(x))]\n"
      ],
      "metadata": {
        "id": "nO8pqccjHjqj"
      },
      "execution_count": 15,
      "outputs": []
    },
    {
      "cell_type": "code",
      "source": [
        "#16.\n",
        "def is_sorted(lst):\n",
        "    return lst == sorted(lst) or lst == sorted(lst, reverse=True)\n"
      ],
      "metadata": {
        "id": "0DyI5n4nHmrV"
      },
      "execution_count": 16,
      "outputs": []
    },
    {
      "cell_type": "code",
      "source": [
        "#17.\n",
        "def merge_sorted_lists(lst1, lst2):\n",
        "    return sorted(lst1 + lst2)\n"
      ],
      "metadata": {
        "id": "RqR8PmDLHpTr"
      },
      "execution_count": 17,
      "outputs": []
    },
    {
      "cell_type": "code",
      "source": [
        "#18.\n",
        "def list_intersection(lst1, lst2):\n",
        "    return list(set(lst1) & set(lst2))\n"
      ],
      "metadata": {
        "id": "B5zgEhnfHr5x"
      },
      "execution_count": 18,
      "outputs": []
    },
    {
      "cell_type": "code",
      "source": [
        "#19.\n",
        "def list_union(lst1, lst2):\n",
        "    return list(set(lst1) | set(lst2))\n"
      ],
      "metadata": {
        "id": "1cvN_WHCHuav"
      },
      "execution_count": 19,
      "outputs": []
    },
    {
      "cell_type": "code",
      "source": [
        "#20.\n",
        "import random\n",
        "def shuffle_list(lst):\n",
        "    shuffled = lst[:]\n",
        "    for i in range(len(lst)):\n",
        "        j = random.randint(0, len(lst) - 1)\n",
        "        shuffled[i], shuffled[j] = shuffled[j], shuffled[i]\n",
        "    return shuffled\n"
      ],
      "metadata": {
        "id": "qb1mO9IfHxF9"
      },
      "execution_count": 20,
      "outputs": []
    },
    {
      "cell_type": "code",
      "source": [
        "#21.\n",
        "def common_elements_in_tuples(t1, t2):\n",
        "    return tuple(set(t1) & set(t2))\n"
      ],
      "metadata": {
        "id": "4tQx3MRKHzeV"
      },
      "execution_count": 21,
      "outputs": []
    },
    {
      "cell_type": "code",
      "source": [
        "#22.\n",
        "def intersection_of_sets():\n",
        "    set1 = set(map(int, input(\"Enter the first set of integers separated by commas: \").split(',')))\n",
        "    set2 = set(map(int, input(\"Enter the second set of integers separated by commas: \").split(',')))\n",
        "    return set1 & set2\n"
      ],
      "metadata": {
        "id": "8FA-8YZFH2bk"
      },
      "execution_count": 22,
      "outputs": []
    },
    {
      "cell_type": "code",
      "source": [
        "#23.\n",
        "def concatenate_tuples(t1, t2):\n",
        "    return t1 + t2\n"
      ],
      "metadata": {
        "id": "Fe0-jaCBH5V3"
      },
      "execution_count": 23,
      "outputs": []
    },
    {
      "cell_type": "code",
      "source": [
        "#24.\n",
        "def difference_of_sets():\n",
        "    set1 = set(input(\"Enter the first set of strings: \").split())\n",
        "    set2 = set(input(\"Enter the second set of strings: \").split())\n",
        "    return set1 - set2\n"
      ],
      "metadata": {
        "id": "hboZ35EWH9z0"
      },
      "execution_count": 24,
      "outputs": []
    },
    {
      "cell_type": "code",
      "source": [
        "#25.\n",
        "def tuple_slice(t, start, end):\n",
        "    return t[start:end]\n"
      ],
      "metadata": {
        "id": "X8A3dwZkIAob"
      },
      "execution_count": 25,
      "outputs": []
    },
    {
      "cell_type": "code",
      "source": [
        "#26.\n",
        "def union_of_char_sets():\n",
        "    set1 = set(input(\"Enter the first set of characters: \"))\n",
        "    set2 = set(input(\"Enter the second set of characters: \"))\n",
        "    return set1 | set2\n"
      ],
      "metadata": {
        "id": "47CouTMDIHRr"
      },
      "execution_count": 26,
      "outputs": []
    },
    {
      "cell_type": "code",
      "source": [
        "#27.\n",
        "def max_min_tuple(t):\n",
        "    return max(t), min(t)\n"
      ],
      "metadata": {
        "id": "k6mGU38jIKDD"
      },
      "execution_count": 27,
      "outputs": []
    },
    {
      "cell_type": "code",
      "source": [
        "#28.\n",
        "def set_operations():\n",
        "    set1 = {1, 2, 3, 4}\n",
        "    set2 = {3, 4, 5, 6}\n",
        "    print(f\"Union: {set1 | set2}\")\n",
        "    print(f\"Intersection: {set1 & set2}\")\n",
        "    print(f\"Difference: {set1 - set2}\")\n"
      ],
      "metadata": {
        "id": "C-T9gOHzIMnt"
      },
      "execution_count": 28,
      "outputs": []
    },
    {
      "cell_type": "code",
      "source": [
        "#29.\n",
        "def count_element_in_tuple(t, elem):\n",
        "    return t.count(elem)\n"
      ],
      "metadata": {
        "id": "Nd_CNVksIQZf"
      },
      "execution_count": 29,
      "outputs": []
    },
    {
      "cell_type": "code",
      "source": [
        "#30.\n",
        "def symmetric_difference_of_sets():\n",
        "    set1 = set(input(\"Enter the first set of strings: \").split())\n",
        "    set2 = set(input(\"Enter the second set of strings: \").split())\n",
        "    return set1 ^ set2\n"
      ],
      "metadata": {
        "id": "nHqlUE8KIS2L"
      },
      "execution_count": 30,
      "outputs": []
    },
    {
      "cell_type": "code",
      "source": [
        "#31.\n",
        "def word_frequencies(words):\n",
        "    return {word: words.count(word) for word in set(words)}\n"
      ],
      "metadata": {
        "id": "7wUBIbZ-IUY6"
      },
      "execution_count": 31,
      "outputs": []
    },
    {
      "cell_type": "code",
      "source": [
        "#32.\n",
        "def merge_dictionaries(d1, d2):\n",
        "    merged = d1.copy()\n",
        "    for key, value in d2.items():\n",
        "        merged[key] = merged.get(key, 0) + value\n",
        "    return merged\n"
      ],
      "metadata": {
        "id": "h5zaZ7pIIYRj"
      },
      "execution_count": 32,
      "outputs": []
    },
    {
      "cell_type": "code",
      "source": [
        "#33.\n",
        "def access_nested_dict(d, keys):\n",
        "    for key in keys:\n",
        "        if isinstance(d, dict):\n",
        "            d = d.get(key)\n",
        "        else:\n",
        "            return None\n",
        "    return d\n"
      ],
      "metadata": {
        "id": "0dgXrVMBIbRz"
      },
      "execution_count": 33,
      "outputs": []
    },
    {
      "cell_type": "code",
      "source": [
        "#34.\n",
        "def sort_dict_by_value(d, ascending=True):\n",
        "    return dict(sorted(d.items(), key=lambda item: item[1], reverse=not ascending))\n"
      ],
      "metadata": {
        "id": "TiTtgu6zIdCE"
      },
      "execution_count": 34,
      "outputs": []
    },
    {
      "cell_type": "code",
      "source": [
        "#35.\n",
        "def invert_dict(d):\n",
        "    inverted = {}\n",
        "    for key, value in d.items():\n",
        "        inverted.setdefault(value, []).append(key)\n",
        "    return inverted\n"
      ],
      "metadata": {
        "id": "8yC2AM5AIfaE"
      },
      "execution_count": 35,
      "outputs": []
    }
  ]
}