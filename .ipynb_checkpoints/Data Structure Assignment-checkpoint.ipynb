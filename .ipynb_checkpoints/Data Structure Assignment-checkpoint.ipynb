{
 "cells": [
  {
   "cell_type": "code",
   "execution_count": 3,
   "id": "7b6c249c-5dc6-445d-973c-d1aefc5ab7c0",
   "metadata": {},
   "outputs": [
    {
     "name": "stdout",
     "output_type": "stream",
     "text": [
      "Hello\n",
      "orld\n",
      "Hello\n",
      "HloWrd\n"
     ]
    }
   ],
   "source": [
    "#1.Discuss string slicing and provide examples?\n",
    "#String slicing is the process of extracting a portion of a string based on its indices. Strings in Python are indexed, with the first character at index 0 and the last at index -1.\n",
    "s = \"Hello World\"\n",
    "print(s[0:5])  \n",
    "print(s[7:])    \n",
    "print(s[:5])    \n",
    "print(s[::2])"
   ]
  },
  {
   "cell_type": "code",
   "execution_count": null,
   "id": "c03bd619-a756-4228-a886-f0694a536ac2",
   "metadata": {},
   "outputs": [],
   "source": [
    "#2.Explain the key features of lists in Python?\n",
    "#Ordered:Elements in a list have a defined order and can be accessed by index.\n",
    "#Mutable:Lists can be modified after creation, allowing items to be changed, added, or removed.\n",
    "#Heterogeneous:Lists can store different data types.\n",
    "#Dynamic:Lists can grow.\n",
    "#Iterable:Lists can be looped through."
   ]
  },
  {
   "cell_type": "code",
   "execution_count": 4,
   "id": "07439e8d-e08c-4295-975d-dfba640d45fe",
   "metadata": {},
   "outputs": [
    {
     "name": "stdout",
     "output_type": "stream",
     "text": [
      "20\n",
      "40\n",
      "[10, 20, 100, 40]\n",
      "[10, 100, 40]\n",
      "[100, 40]\n",
      "[40]\n"
     ]
    }
   ],
   "source": [
    "#3.Describe how to access, modify, and delete elements in a list with examples?\n",
    "#Access\n",
    "my_list = [10, 20, 30, 40]\n",
    "print(my_list[1])  \n",
    "print(my_list[-1]) \n",
    "\n",
    "#Modify\n",
    "my_list[2] = 100\n",
    "print(my_list)  \n",
    "\n",
    "#Delete\n",
    "del my_list[1]\n",
    "print(my_list)  \n",
    "\n",
    "my_list.pop(0) \n",
    "print(my_list)  \n",
    "\n",
    "my_list.remove(100)  \n",
    "print(my_list)       \n",
    "\n"
   ]
  },
  {
   "cell_type": "code",
   "execution_count": 7,
   "id": "d72a59f8-9f1e-47c8-a09f-5dda5db16653",
   "metadata": {},
   "outputs": [
    {
     "name": "stdout",
     "output_type": "stream",
     "text": [
      "[1, 100, 3]\n"
     ]
    }
   ],
   "source": [
    "#4. Compare and contrast tuples and lists with examples?\n",
    "\n",
    "my_list = [1, 2, 3]\n",
    "my_tuple = (1, 2, 3)\n",
    "my_list[1] = 100\n",
    "print(my_list)\n",
    "#lists are mutable\n",
    "# Tuples are immutable\n",
    "#my_tuple[1] = 100  # This would raise a TypeError\n"
   ]
  },
  {
   "cell_type": "code",
   "execution_count": 8,
   "id": "c6d0c3be-78b8-4b55-8e52-0c4fe3021679",
   "metadata": {},
   "outputs": [
    {
     "name": "stdout",
     "output_type": "stream",
     "text": [
      "{1, 2, 3, 4}\n",
      "{1, 2, 3, 4, 5}\n",
      "{1, 3, 4, 5}\n"
     ]
    }
   ],
   "source": [
    "#5.Describe the key features of sets and provide examples of their use?\n",
    "#The elements in a set do not have a specific order.\n",
    "#Sets do not allow duplicate elements.\n",
    "#While sets are mutable, their elements must be immutable.\n",
    "\n",
    "my_set = {1, 2, 3, 4}\n",
    "print(my_set)  \n",
    "\n",
    "my_set.add(5)  \n",
    "print(my_set)  \n",
    "\n",
    "my_set.remove(2) \n",
    "print(my_set) \n"
   ]
  },
  {
   "cell_type": "code",
   "execution_count": null,
   "id": "3c09d414-2ef2-4f44-b468-8c4615fee196",
   "metadata": {},
   "outputs": [],
   "source": [
    "#6. Discuss the use cases of tuples and sets in Python programming?\n",
    "#Tuples are used when the data should not change.\n",
    "#Sets are ideal for removing duplicates from a list,mathematical operations like union,intersection and difference.\n"
   ]
  },
  {
   "cell_type": "code",
   "execution_count": 9,
   "id": "32961bcc-309b-4d35-bbbe-04ee79bb237a",
   "metadata": {},
   "outputs": [
    {
     "name": "stdout",
     "output_type": "stream",
     "text": [
      "{'name': 'Alice', 'age': 26, 'city': 'New York'}\n",
      "{'name': 'Alice', 'age': 26}\n"
     ]
    }
   ],
   "source": [
    "#7. Describe how to add, modify, and delete items in a dictionary with examples?\n",
    "#we can add or modify values by assigning to a key.\n",
    "my_dict = {'name': 'Alice', 'age': 25}\n",
    "\n",
    "#Modify\n",
    "my_dict['age'] = 26 \n",
    "\n",
    "#Add\n",
    "my_dict['city'] = 'New York' \n",
    "print(my_dict) \n",
    "\n",
    "#Delete\n",
    "my_dict.pop('city')\n",
    "print(my_dict)  \n",
    "\n",
    "\n",
    "\n"
   ]
  },
  {
   "cell_type": "code",
   "execution_count": 13,
   "id": "c85af2fd-7777-4ba0-8c19-b52586d3a8ac",
   "metadata": {},
   "outputs": [
    {
     "name": "stdout",
     "output_type": "stream",
     "text": [
      "key\n"
     ]
    }
   ],
   "source": [
    "#8.Discuss the importance of dictionary keys being immutable and provide examples?\n",
    "\n",
    "#In a dictionary the key part must be immutable,once a key is created,it cannot be changed.\n",
    "my_dict = { (1, 2): 'key' }\n",
    "print(my_dict[(1, 2)]) \n",
    "\n",
    "#my_dict[[1, 2]] = 'keys'  # lists are mutable ,raises TypeError \n",
    "\n"
   ]
  },
  {
   "cell_type": "code",
   "execution_count": null,
   "id": "61a808ae-c345-4157-b733-c48ed34a6260",
   "metadata": {},
   "outputs": [],
   "source": []
  }
 ],
 "metadata": {
  "kernelspec": {
   "display_name": "Python 3 (ipykernel)",
   "language": "python",
   "name": "python3"
  },
  "language_info": {
   "codemirror_mode": {
    "name": "ipython",
    "version": 3
   },
   "file_extension": ".py",
   "mimetype": "text/x-python",
   "name": "python",
   "nbconvert_exporter": "python",
   "pygments_lexer": "ipython3",
   "version": "3.10.8"
  }
 },
 "nbformat": 4,
 "nbformat_minor": 5
}
