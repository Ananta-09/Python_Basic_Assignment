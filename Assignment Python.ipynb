{
 "cells": [
  {
   "cell_type": "code",
   "execution_count": 1,
   "id": "f5008854-ede9-48d5-8a4d-ff9aa90dc0f9",
   "metadata": {},
   "outputs": [
    {
     "name": "stdout",
     "output_type": "stream",
     "text": [
      "This is True\n"
     ]
    }
   ],
   "source": [
    "#Describe the role of predefined keywords in Python and provide examples of how they are used in a program?\n",
    "\n",
    "if True:\n",
    "    print(\"This is True\")\n"
   ]
  },
  {
   "cell_type": "code",
   "execution_count": 3,
   "id": "836560ea-b9dd-4ade-92b8-91d431abaad4",
   "metadata": {},
   "outputs": [
    {
     "name": "stdout",
     "output_type": "stream",
     "text": [
      "[4, 2, 3]\n"
     ]
    },
    {
     "data": {
      "text/plain": [
       "'my_tuple = (1, 2, 3)\\nmy_tuple[0] = 4  \\n'"
      ]
     },
     "execution_count": 3,
     "metadata": {},
     "output_type": "execute_result"
    }
   ],
   "source": [
    "#Compare and contrast mutable and immutable objects in Python with examples?\n",
    "#Example of a mutable object:\n",
    "my_list = [1, 2, 3]\n",
    "my_list[0] = 4  \n",
    "print(my_list)  \n",
    "\n",
    "#Example of an immutable object:\n",
    "'''my_tuple = (1, 2, 3)\n",
    "my_tuple[0] = 4  \n",
    "'''"
   ]
  },
  {
   "cell_type": "code",
   "execution_count": 4,
   "id": "8c52a5f6-1a24-443b-bf28-87af3e330ecc",
   "metadata": {},
   "outputs": [
    {
     "name": "stdout",
     "output_type": "stream",
     "text": [
      "13\n",
      "3.3333333333333335\n",
      "False\n",
      "True\n",
      "True\n",
      "3\n"
     ]
    }
   ],
   "source": [
    "#Discuss the different types of operators in Python and provide examples of how they are used?\n",
    "#Arithmetic Operators: Used for mathematical operations.\n",
    "a = 10\n",
    "b = 3\n",
    "print(a + b)  \n",
    "print(a / b)  \n",
    "\n",
    "#Comparison Operators: Used to compare values.\n",
    "print(a == b)  \n",
    "print(a > b)   \n",
    "\n",
    "#Logical Operators: Used to combine conditional statements (and, or, not).\n",
    "print(a > 5 and b < 5)  \n",
    "\n",
    "#Assignment Operators: Used to assign values to variables.\n",
    "a += 5  \n",
    "\n",
    "#Bitwise Operators: Perform operations on binary numbers.\n",
    "\n",
    "print(a & b)  \n",
    "\n",
    "\n"
   ]
  },
  {
   "cell_type": "code",
   "execution_count": 5,
   "id": "1eb4a539-a13b-4438-b94d-38ef1a6a80c9",
   "metadata": {},
   "outputs": [
    {
     "name": "stdout",
     "output_type": "stream",
     "text": [
      "7.0\n",
      "10\n"
     ]
    }
   ],
   "source": [
    "#Explain the concept of type casting in Python with examples?\n",
    "#Implicit Type Casting: Automatically done by Python.\n",
    "a = 5\n",
    "b = 2.0\n",
    "result = a + b  \n",
    "print(result)  \n",
    "\n",
    "#Explicit Type Casting: Done manually using functions like int(), float(), str().\n",
    "a = \"10\"\n",
    "b = int(a)  \n",
    "print(b)  \n",
    "\n"
   ]
  },
  {
   "cell_type": "code",
   "execution_count": 6,
   "id": "3b6bb0ca-8fe1-4773-b70f-b6ace6f5a438",
   "metadata": {},
   "outputs": [
    {
     "name": "stdout",
     "output_type": "stream",
     "text": [
      "x is greater than 5\n"
     ]
    }
   ],
   "source": [
    "# How do conditional statements work in Python? Illustrate with examples?\n",
    "\n",
    "x = 10\n",
    "if x > 5:\n",
    "    print(\"x is greater than 5\")\n",
    "elif x == 5:\n",
    "    print(\"x is equal to 5\")\n",
    "else:\n",
    "    print(\"x is less than 5\")\n"
   ]
  },
  {
   "cell_type": "code",
   "execution_count": 7,
   "id": "ec9e8af8-8d87-40da-957b-8a1171e6da99",
   "metadata": {},
   "outputs": [
    {
     "name": "stdout",
     "output_type": "stream",
     "text": [
      "0\n",
      "1\n",
      "2\n",
      "3\n",
      "4\n",
      "0\n",
      "1\n",
      "2\n",
      "3\n",
      "4\n"
     ]
    }
   ],
   "source": [
    "# Describe the different types of loops in Python and their use cases with examples?\n",
    "#for loop\n",
    "for i in range(5):\n",
    "    print(i) \n",
    "\n",
    "#While loop\n",
    "i = 0\n",
    "while i < 5:\n",
    "    print(i)\n",
    "    i += 1 \n",
    "\n",
    "\n",
    "\n",
    "    \n"
   ]
  },
  {
   "cell_type": "code",
   "execution_count": null,
   "id": "ab474a8f-9aeb-4547-90d7-b135e2832bb7",
   "metadata": {},
   "outputs": [],
   "source": []
  }
 ],
 "metadata": {
  "kernelspec": {
   "display_name": "Python 3 (ipykernel)",
   "language": "python",
   "name": "python3"
  },
  "language_info": {
   "codemirror_mode": {
    "name": "ipython",
    "version": 3
   },
   "file_extension": ".py",
   "mimetype": "text/x-python",
   "name": "python",
   "nbconvert_exporter": "python",
   "pygments_lexer": "ipython3",
   "version": "3.10.8"
  }
 },
 "nbformat": 4,
 "nbformat_minor": 5
}
