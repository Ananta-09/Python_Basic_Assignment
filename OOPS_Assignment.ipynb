{
  "nbformat": 4,
  "nbformat_minor": 0,
  "metadata": {
    "colab": {
      "provenance": [],
      "authorship_tag": "ABX9TyNJo7nV/YqYudAx8riS0/A0",
      "include_colab_link": true
    },
    "kernelspec": {
      "name": "python3",
      "display_name": "Python 3"
    },
    "language_info": {
      "name": "python"
    }
  },
  "cells": [
    {
      "cell_type": "markdown",
      "metadata": {
        "id": "view-in-github",
        "colab_type": "text"
      },
      "source": [
        "<a href=\"https://colab.research.google.com/github/Ananta-09/Python_Basic_Assignment/blob/main/OOPS_Assignment.ipynb\" target=\"_parent\"><img src=\"https://colab.research.google.com/assets/colab-badge.svg\" alt=\"Open In Colab\"/></a>"
      ]
    },
    {
      "cell_type": "code",
      "execution_count": null,
      "metadata": {
        "id": "eEfyLjTr_qde"
      },
      "outputs": [],
      "source": []
    },
    {
      "cell_type": "markdown",
      "source": [
        "1.\n",
        "\n",
        "Ans:\n",
        "\n",
        "Encapsulation: Bundling data  and methods that operate on the data into a single unit or class and restricting access to some of the object's components.\n",
        "\n",
        "Abstraction: Hiding the complex implementation details and showing only the essential features of an object.\n",
        "\n",
        "Inheritance: Allowing a new class  to inherit attributes and methods from an existing class .\n",
        "\n",
        "Polymorphism: Allowing methods or functions to operate on different classes or objects in a similar way.\n",
        "\n",
        "Message Passing: Objects communicate with each other through method calls, often described as sending messages to objects."
      ],
      "metadata": {
        "id": "0FnvE6D1ATTq"
      }
    },
    {
      "cell_type": "code",
      "source": [
        "#2.\n",
        "#ans:\n",
        "class Car:\n",
        "    def __init__(self, make, model, year):\n",
        "        self.make = make\n",
        "        self.model = model\n",
        "        self.year = year\n",
        "\n",
        "    def display_info(self):\n",
        "        print(f\"Car: {self.year} {self.make} {self.model}\")\n",
        "\n",
        "# Example usage:\n",
        "car = Car(\"Toyota\", \"Camry\", 2020)\n",
        "car.display_info()"
      ],
      "metadata": {
        "colab": {
          "base_uri": "https://localhost:8080/"
        },
        "id": "wz2K1IEBAg8h",
        "outputId": "c34923d3-eb74-4ee6-ec15-e737d5e3255c"
      },
      "execution_count": 1,
      "outputs": [
        {
          "output_type": "stream",
          "name": "stdout",
          "text": [
            "Car: 2020 Toyota Camry\n"
          ]
        }
      ]
    },
    {
      "cell_type": "markdown",
      "source": [
        "3.\n",
        "Ans:\n",
        "\n",
        "Instance Methods: These are methods that operate on an instance of the class. They take self as the first parameter, representing the instance.\n",
        "\n",
        "Class Methods: These are methods that operate on the class itself rather than on instances. They take cls as the first parameter, representing the class. Use @classmethod decorator."
      ],
      "metadata": {
        "id": "JL-4sdNPA0r_"
      }
    },
    {
      "cell_type": "code",
      "source": [
        "#3.\n",
        "#Ans:\n",
        "class MyClass:\n",
        "    def instance_method(self):\n",
        "        print(\"This is an instance method\")\n",
        "\n",
        "    @classmethod\n",
        "    def class_method(cls):\n",
        "        print(\"This is a class method\")\n",
        "\n",
        "obj = MyClass()\n",
        "obj.instance_method()\n",
        "MyClass.class_method()\n"
      ],
      "metadata": {
        "colab": {
          "base_uri": "https://localhost:8080/"
        },
        "id": "5mQXgZNLA5P3",
        "outputId": "104029be-b94d-45ed-91fe-fa451ec218f7"
      },
      "execution_count": 2,
      "outputs": [
        {
          "output_type": "stream",
          "name": "stdout",
          "text": [
            "This is an instance method\n",
            "This is a class method\n"
          ]
        }
      ]
    },
    {
      "cell_type": "markdown",
      "source": [
        "4.\n",
        "Ans:\n",
        "\n",
        "Python does not support traditional method overloading. Instead, we can achieve it by using default arguments or handling different argument types in a single method."
      ],
      "metadata": {
        "id": "uiPvYbnsA_ck"
      }
    },
    {
      "cell_type": "code",
      "source": [
        "#4.\n",
        "class Calculator:\n",
        "    def add(self, a, b, c=None):\n",
        "        if c is not None:\n",
        "            return a + b + c\n",
        "        else:\n",
        "            return a + b\n",
        "\n",
        "calc = Calculator()\n",
        "print(calc.add(2, 3))       # Output: 5\n",
        "print(calc.add(2, 3, 4))    # Output: 9\n"
      ],
      "metadata": {
        "colab": {
          "base_uri": "https://localhost:8080/"
        },
        "id": "XpHKoUdgBRe6",
        "outputId": "c43c5ce8-b8e1-45ca-9093-f2eaab7b918f"
      },
      "execution_count": 3,
      "outputs": [
        {
          "output_type": "stream",
          "name": "stdout",
          "text": [
            "5\n",
            "9\n"
          ]
        }
      ]
    },
    {
      "cell_type": "markdown",
      "source": [
        "5.\n",
        "\n",
        "ans:\n",
        "\n",
        "Public: Accessible anywhere, no special notation (e.g., variable).\n",
        "\n",
        "Protected: Accessible within the class and its subclasses, denoted with a single underscore (e.g., _variable).\n",
        "\n",
        "Private: Accessible only within the class, denoted with double underscores (e.g., __variable)."
      ],
      "metadata": {
        "id": "UyFmFFAWBUSW"
      }
    },
    {
      "cell_type": "markdown",
      "source": [
        "6.\n",
        "\n",
        "Ans:\n",
        "\n",
        "Single Inheritance: A class inherits from one base class.\n",
        "\n",
        "Multiple Inheritance: A class inherits from more than one base class.\n",
        "\n",
        "Multilevel Inheritance: A class inherits from a class that has already inherited from another class.\n",
        "\n",
        "Hierarchical Inheritance: Multiple classes inherit from the same base class.\n",
        "\n",
        "Hybrid Inheritance: A combination of two or more types of inheritance."
      ],
      "metadata": {
        "id": "eYhSuAxVBqmy"
      }
    },
    {
      "cell_type": "code",
      "source": [
        "#6.\n",
        "#Ans:\n",
        "class Parent1:\n",
        "    def func1(self):\n",
        "        print(\"Parent1\")\n",
        "\n",
        "class Parent2:\n",
        "    def func2(self):\n",
        "        print(\"Parent2\")\n",
        "\n",
        "class Child(Parent1, Parent2):\n",
        "    pass\n",
        "\n",
        "child = Child()\n",
        "child.func1()\n",
        "child.func2()\n"
      ],
      "metadata": {
        "colab": {
          "base_uri": "https://localhost:8080/"
        },
        "id": "77J9hn4cB1AD",
        "outputId": "7ddb7e99-14a3-42c8-b0a5-32d82da3ab47"
      },
      "execution_count": 4,
      "outputs": [
        {
          "output_type": "stream",
          "name": "stdout",
          "text": [
            "Parent1\n",
            "Parent2\n"
          ]
        }
      ]
    },
    {
      "cell_type": "markdown",
      "source": [
        "7.\n",
        "\n",
        "Ans:\n",
        "\n",
        "MRO determines the order in which base classes are searched when executing a method. It follows the C3 linearization algorithm."
      ],
      "metadata": {
        "id": "x0408clIB6ea"
      }
    },
    {
      "cell_type": "code",
      "source": [
        "#7.\n",
        "#Ans:\n",
        "\n",
        "print(Child.mro())  # Output: [<class '__main__.Child'>, <class '__main__.Parent1'>, <class '__main__.Parent2'>, <class 'object'>]\n"
      ],
      "metadata": {
        "colab": {
          "base_uri": "https://localhost:8080/"
        },
        "id": "_DVeg1jxCA5S",
        "outputId": "b11902fa-cb1b-4ed1-849e-7df9bce351b2"
      },
      "execution_count": 5,
      "outputs": [
        {
          "output_type": "stream",
          "name": "stdout",
          "text": [
            "[<class '__main__.Child'>, <class '__main__.Parent1'>, <class '__main__.Parent2'>, <class 'object'>]\n"
          ]
        }
      ]
    },
    {
      "cell_type": "code",
      "source": [
        "#8.\n",
        "#Ans:\n",
        "\n",
        "from abc import ABC, abstractmethod\n",
        "\n",
        "class Shape(ABC):\n",
        "    @abstractmethod\n",
        "    def area(self):\n",
        "        pass\n",
        "\n",
        "class Circle(Shape):\n",
        "    def __init__(self, radius):\n",
        "        self.radius = radius\n",
        "\n",
        "    def area(self):\n",
        "        return 3.14 * self.radius * self.radius\n",
        "\n",
        "class Rectangle(Shape):\n",
        "    def __init__(self, width, height):\n",
        "        self.width = width\n",
        "        self.height = height\n",
        "\n",
        "    def area(self):\n",
        "        return self.width * self.height\n",
        "\n",
        "# Example usage:\n",
        "circle = Circle(5)\n",
        "rectangle = Rectangle(4, 6)\n",
        "print(circle.area())\n",
        "print(rectangle.area())\n"
      ],
      "metadata": {
        "colab": {
          "base_uri": "https://localhost:8080/"
        },
        "id": "Pc0Yn08lCJNe",
        "outputId": "3701b76b-499c-4ecd-ec86-ba7448fdebb0"
      },
      "execution_count": 6,
      "outputs": [
        {
          "output_type": "stream",
          "name": "stdout",
          "text": [
            "78.5\n",
            "24\n"
          ]
        }
      ]
    },
    {
      "cell_type": "code",
      "source": [
        "#9.\n",
        "#Ans:\n",
        "\n",
        "def print_area(shape):\n",
        "    print(f\"The area is: {shape.area()}\")\n",
        "\n",
        "circle = Circle(5)\n",
        "rectangle = Rectangle(4, 6)\n",
        "\n",
        "print_area(circle)\n",
        "print_area(rectangle)\n"
      ],
      "metadata": {
        "colab": {
          "base_uri": "https://localhost:8080/"
        },
        "id": "Hd2BYw6PCQvb",
        "outputId": "8b44c5f7-4612-453d-c796-e712a3df6f98"
      },
      "execution_count": 7,
      "outputs": [
        {
          "output_type": "stream",
          "name": "stdout",
          "text": [
            "The area is: 78.5\n",
            "The area is: 24\n"
          ]
        }
      ]
    },
    {
      "cell_type": "code",
      "source": [
        "#10.\n",
        "\n",
        "#Ans:\n",
        "\n",
        "class BankAccount:\n",
        "    def __init__(self, account_number, balance=0):\n",
        "        self.__account_number = account_number\n",
        "        self.__balance = balance\n",
        "\n",
        "    def deposit(self, amount):\n",
        "        self.__balance += amount\n",
        "\n",
        "    def withdraw(self, amount):\n",
        "        if self.__balance >= amount:\n",
        "            self.__balance -= amount\n",
        "        else:\n",
        "            print(\"Insufficient funds\")\n",
        "\n",
        "    def get_balance(self):\n",
        "        return self.__balance\n",
        "\n",
        "# Example usage:\n",
        "account = BankAccount(\"123456\")\n",
        "account.deposit(100)\n",
        "account.withdraw(50)\n",
        "print(account.get_balance())\n"
      ],
      "metadata": {
        "colab": {
          "base_uri": "https://localhost:8080/"
        },
        "id": "S3EggEs_CXMd",
        "outputId": "096b41c7-610e-4577-ce40-77fd09d86cef"
      },
      "execution_count": 8,
      "outputs": [
        {
          "output_type": "stream",
          "name": "stdout",
          "text": [
            "50\n"
          ]
        }
      ]
    },
    {
      "cell_type": "code",
      "source": [
        "#11.\n",
        "#Ans:\n",
        "\n",
        "class Number:\n",
        "    def __init__(self, value):\n",
        "        self.value = value\n",
        "\n",
        "    def __str__(self):\n",
        "        return f\"Number: {self.value}\"\n",
        "\n",
        "    def __add__(self, other):\n",
        "        return Number(self.value + other.value)\n",
        "\n",
        "# Example usage:\n",
        "num1 = Number(10)\n",
        "num2 = Number(20)\n",
        "print(num1)\n",
        "print(num1 + num2)\n"
      ],
      "metadata": {
        "colab": {
          "base_uri": "https://localhost:8080/"
        },
        "id": "ijQhV95sCdDx",
        "outputId": "595bc33f-74cd-421c-a137-c4fc0aaa2209"
      },
      "execution_count": 9,
      "outputs": [
        {
          "output_type": "stream",
          "name": "stdout",
          "text": [
            "Number: 10\n",
            "Number: 30\n"
          ]
        }
      ]
    },
    {
      "cell_type": "code",
      "source": [
        "#12.\n",
        "#Ans:\n",
        "import time\n",
        "\n",
        "def execution_time(func):\n",
        "    def wrapper(*args, **kwargs):\n",
        "        start_time = time.time()\n",
        "        result = func(*args, **kwargs)\n",
        "        end_time = time.time()\n",
        "        print(f\"Execution time: {end_time - start_time} seconds\")\n",
        "        return result\n",
        "    return wrapper\n",
        "\n",
        "@execution_time\n",
        "def slow_function():\n",
        "    time.sleep(2)\n",
        "    print(\"Function executed\")\n",
        "\n",
        "slow_function()\n"
      ],
      "metadata": {
        "colab": {
          "base_uri": "https://localhost:8080/"
        },
        "id": "vLVKV9glChFz",
        "outputId": "87eddd81-5eec-4a4f-91d0-eb70db5068fe"
      },
      "execution_count": 10,
      "outputs": [
        {
          "output_type": "stream",
          "name": "stdout",
          "text": [
            "Function executed\n",
            "Execution time: 2.002260684967041 seconds\n"
          ]
        }
      ]
    },
    {
      "cell_type": "markdown",
      "source": [
        "13.\n",
        "\n",
        "Ans:\n",
        "\n",
        "The Diamond Problem occurs in multiple inheritance when two classes inherit from the same base class and a third class inherits from both of them. Python resolves this using the MRO (Method Resolution Order), ensuring a consistent order in which classes are traversed."
      ],
      "metadata": {
        "id": "qEbOA6NwCpSt"
      }
    },
    {
      "cell_type": "code",
      "source": [
        "#14.\n",
        "#Ans:\n",
        "class MyClass:\n",
        "    instances = 0\n",
        "\n",
        "    def __init__(self):\n",
        "        MyClass.instances += 1\n",
        "\n",
        "    @classmethod\n",
        "    def get_instance_count(cls):\n",
        "        return cls.instances\n",
        "\n",
        "# Example usage:\n",
        "a = MyClass()\n",
        "b = MyClass()\n",
        "print(MyClass.get_instance_count())\n"
      ],
      "metadata": {
        "colab": {
          "base_uri": "https://localhost:8080/"
        },
        "id": "0RRUlCpjCxXR",
        "outputId": "29b4eeaf-4cc2-4cd7-a225-f2cdafc5e6bc"
      },
      "execution_count": 11,
      "outputs": [
        {
          "output_type": "stream",
          "name": "stdout",
          "text": [
            "2\n"
          ]
        }
      ]
    },
    {
      "cell_type": "code",
      "source": [
        "#15.\n",
        "#Ans:\n",
        "\n",
        "class Year:\n",
        "    @staticmethod\n",
        "    def is_leap_year(year):\n",
        "        if (year % 4 == 0 and year % 100 != 0) or (year % 400 == 0):\n",
        "            return True\n",
        "        return False\n",
        "\n",
        "# Example usage:\n",
        "print(Year.is_leap_year(2024))\n"
      ],
      "metadata": {
        "colab": {
          "base_uri": "https://localhost:8080/"
        },
        "id": "9EvlwP5kC3nF",
        "outputId": "6080e5e0-09c3-4f9b-ca8e-e774cc648d06"
      },
      "execution_count": 12,
      "outputs": [
        {
          "output_type": "stream",
          "name": "stdout",
          "text": [
            "True\n"
          ]
        }
      ]
    }
  ]
}